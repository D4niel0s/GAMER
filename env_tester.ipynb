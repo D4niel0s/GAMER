{
 "cells": [
  {
   "cell_type": "markdown",
   "id": "dfedd26e",
   "metadata": {},
   "source": [
    "# This notebook will test if your env's got everything for this project\n",
    "(Make sure that the correct ipykernel is selected)"
   ]
  },
  {
   "cell_type": "code",
   "execution_count": 1,
   "id": "1b0eaf36",
   "metadata": {},
   "outputs": [
    {
     "name": "stdout",
     "output_type": "stream",
     "text": [
      "torch: 2.4.1, cuda available:True, torch.cuda: 12.1, safetensors: 0.5.3\n",
      "torch_geometric: 2.6.1, transformers: 4.54.1, datasets: 3.6.0\n",
      "matplotlib: 3.10.5, wandb: 0.21.3, primefac: 2.0.12\n",
      "\n"
     ]
    }
   ],
   "source": [
    "import warnings, subprocess\n",
    "warnings.filterwarnings(\"ignore\")\n",
    "\n",
    "import torch, torch_geometric, transformers, datasets, safetensors, matplotlib, wandb\n",
    "\n",
    "# Primefac is lame and doesn't have __version__ so we check with pip\n",
    "primefac_version = subprocess.run('pip show primefac | grep -i version | tail -c 7', shell=True, capture_output=True, text=True).stdout\n",
    "\n",
    "print(f'torch: {torch.__version__}, cuda available:{torch.cuda.is_available()}, torch.cuda: {torch.version.cuda}, safetensors: {safetensors.__version__}')\n",
    "print(f'torch_geometric: {torch_geometric.__version__}, transformers: {transformers.__version__}, datasets: {datasets.__version__}')\n",
    "print(f'matplotlib: {matplotlib.__version__}, wandb: {wandb.__version__}, primefac: {primefac_version}')"
   ]
  }
 ],
 "metadata": {
  "kernelspec": {
   "display_name": "GAMER",
   "language": "python",
   "name": "python3"
  },
  "language_info": {
   "codemirror_mode": {
    "name": "ipython",
    "version": 3
   },
   "file_extension": ".py",
   "mimetype": "text/x-python",
   "name": "python",
   "nbconvert_exporter": "python",
   "pygments_lexer": "ipython3",
   "version": "3.10.18"
  }
 },
 "nbformat": 4,
 "nbformat_minor": 5
}
