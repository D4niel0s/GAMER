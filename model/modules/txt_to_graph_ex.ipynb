{
 "cells": [
  {
   "cell_type": "code",
   "execution_count": 1,
   "id": "c2bfbe3f",
   "metadata": {},
   "outputs": [],
   "source": [
    "import warnings\n",
    "warnings.filterwarnings(\"ignore\")\n",
    "\n",
    "import torch\n",
    "from transformers import BertTokenizer, BertModel\n",
    "from txt2graph import text_to_graph\n",
    "\n",
    "tokenizer = BertTokenizer.from_pretrained(\"bert-base-uncased\")\n",
    "model = BertModel.from_pretrained(\"bert-base-uncased\")"
   ]
  },
  {
   "cell_type": "code",
   "execution_count": 2,
   "id": "d2d7ad21",
   "metadata": {},
   "outputs": [
    {
     "name": "stdout",
     "output_type": "stream",
     "text": [
      "inputs[\"input_ids\"].shape=torch.Size([3, 10])\n",
      "last_hidden_state.shape=torch.Size([3, 10, 768])\n"
     ]
    }
   ],
   "source": [
    "\n",
    "# Example sentence\n",
    "text = [\"BERT is great for natural language processing!\", \"Hi my name is Danik.\", \"Bob\"]\n",
    "\n",
    "# Tokenize input\n",
    "inputs = tokenizer(text, return_tensors=\"pt\", padding=True)\n",
    "print(f'{inputs[\"input_ids\"].shape=}')\n",
    "\n",
    "# Forward pass (no gradient calculation needed for inference)\n",
    "with torch.no_grad():\n",
    "    outputs = model(**inputs)\n",
    "\n",
    "# Extract embeddings\n",
    "last_hidden_state = outputs.last_hidden_state  # Shape: [batch_size, seq_len, hidden_dim]\n",
    "\n",
    "print(f'{last_hidden_state.shape=}')"
   ]
  },
  {
   "cell_type": "code",
   "execution_count": 3,
   "id": "dd1a5816",
   "metadata": {},
   "outputs": [
    {
     "data": {
      "text/plain": [
       "{'input_ids': tensor([[  101, 14324,  2003,  2307,  2005,  3019,  2653,  6364,   999,   102],\n",
       "        [  101,  7632,  2026,  2171,  2003, 19522,  2243,  1012,   102,     0],\n",
       "        [  101,  3960,   102,     0,     0,     0,     0,     0,     0,     0]]), 'token_type_ids': tensor([[0, 0, 0, 0, 0, 0, 0, 0, 0, 0],\n",
       "        [0, 0, 0, 0, 0, 0, 0, 0, 0, 0],\n",
       "        [0, 0, 0, 0, 0, 0, 0, 0, 0, 0]]), 'attention_mask': tensor([[1, 1, 1, 1, 1, 1, 1, 1, 1, 1],\n",
       "        [1, 1, 1, 1, 1, 1, 1, 1, 1, 0],\n",
       "        [1, 1, 1, 0, 0, 0, 0, 0, 0, 0]])}"
      ]
     },
     "execution_count": 3,
     "metadata": {},
     "output_type": "execute_result"
    }
   ],
   "source": [
    "inputs"
   ]
  },
  {
   "cell_type": "code",
   "execution_count": 4,
   "id": "2c10c86d",
   "metadata": {},
   "outputs": [
    {
     "data": {
      "text/plain": [
       "[Data(x=[10, 768], edge_index=[2, 18]),\n",
       " Data(x=[9, 768], edge_index=[2, 16]),\n",
       " Data(x=[3, 768], edge_index=[2, 4])]"
      ]
     },
     "execution_count": 4,
     "metadata": {},
     "output_type": "execute_result"
    }
   ],
   "source": [
    "b = text_to_graph(last_hidden_state, attn_mask=inputs['attention_mask'])\n",
    "b"
   ]
  },
  {
   "cell_type": "code",
   "execution_count": 5,
   "id": "0dc1d66a",
   "metadata": {},
   "outputs": [
    {
     "name": "stdout",
     "output_type": "stream",
     "text": [
      "tensor([[0, 1, 2, 3, 4, 5, 6, 7, 8, 1, 2, 3, 4, 5, 6, 7, 8, 9],\n",
      "        [1, 2, 3, 4, 5, 6, 7, 8, 9, 0, 1, 2, 3, 4, 5, 6, 7, 8]])\n",
      "tensor([[0, 1, 2, 3, 4, 5, 6, 7, 1, 2, 3, 4, 5, 6, 7, 8],\n",
      "        [1, 2, 3, 4, 5, 6, 7, 8, 0, 1, 2, 3, 4, 5, 6, 7]])\n",
      "tensor([[0, 1, 1, 2],\n",
      "        [1, 2, 0, 1]])\n"
     ]
    }
   ],
   "source": [
    "for batch in b:\n",
    "    print(batch.edge_index)"
   ]
  },
  {
   "cell_type": "code",
   "execution_count": 6,
   "id": "1e0315ff",
   "metadata": {},
   "outputs": [],
   "source": [
    "c = text_to_graph(last_hidden_state[2], attn_mask=inputs['attention_mask'][2])"
   ]
  },
  {
   "cell_type": "code",
   "execution_count": 7,
   "id": "76e43bc2",
   "metadata": {},
   "outputs": [
    {
     "data": {
      "text/plain": [
       "tensor([[0, 1, 1, 2],\n",
       "        [1, 2, 0, 1]])"
      ]
     },
     "execution_count": 7,
     "metadata": {},
     "output_type": "execute_result"
    }
   ],
   "source": [
    "c[0].edge_index"
   ]
  }
 ],
 "metadata": {
  "kernelspec": {
   "display_name": "GAMER",
   "language": "python",
   "name": "python3"
  },
  "language_info": {
   "codemirror_mode": {
    "name": "ipython",
    "version": 3
   },
   "file_extension": ".py",
   "mimetype": "text/x-python",
   "name": "python",
   "nbconvert_exporter": "python",
   "pygments_lexer": "ipython3",
   "version": "3.10.18"
  }
 },
 "nbformat": 4,
 "nbformat_minor": 5
}
