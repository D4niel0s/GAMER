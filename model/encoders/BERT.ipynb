{
 "cells": [
  {
   "cell_type": "markdown",
   "id": "69096df0",
   "metadata": {},
   "source": [
    "# The celebrated [BERT architecture](https://arxiv.org/pdf/1810.04805)\n",
    "Simple token embeddings - classic transformer encoder. \\\n",
    "Trained using $\\texttt{MLM}$."
   ]
  },
  {
   "cell_type": "code",
   "execution_count": 1,
   "id": "7d90f7cb",
   "metadata": {},
   "outputs": [],
   "source": [
    "import warnings\n",
    "warnings.filterwarnings(\"ignore\")\n",
    "\n",
    "from transformers import BertTokenizer, BertModel\n",
    "import torch\n",
    "\n",
    "tokenizer = BertTokenizer.from_pretrained(\"bert-base-uncased\")\n",
    "model = BertModel.from_pretrained(\"bert-base-uncased\")"
   ]
  },
  {
   "cell_type": "code",
   "execution_count": 2,
   "id": "b7b8383d",
   "metadata": {},
   "outputs": [
    {
     "name": "stdout",
     "output_type": "stream",
     "text": [
      "Param count: 109.48M parameters\n"
     ]
    }
   ],
   "source": [
    "print(f\"Param count: {sum(p.numel() for p in model.parameters())/1e6:.2f}M parameters\")"
   ]
  },
  {
   "cell_type": "code",
   "execution_count": 3,
   "id": "84dc6896",
   "metadata": {},
   "outputs": [
    {
     "name": "stdout",
     "output_type": "stream",
     "text": [
      "inputs[\"input_ids\"].shape=torch.Size([1, 10])\n",
      "last_hidden_state.shape=torch.Size([1, 10, 768])\n"
     ]
    }
   ],
   "source": [
    "\n",
    "# Example sentence\n",
    "text = \"BERT is great for natural language processing!\"\n",
    "\n",
    "# Tokenize input\n",
    "inputs = tokenizer(text, return_tensors=\"pt\")\n",
    "print(f'{inputs[\"input_ids\"].shape=}')\n",
    "\n",
    "# Forward pass (no gradient calculation needed for inference)\n",
    "with torch.no_grad():\n",
    "    outputs = model(**inputs)\n",
    "\n",
    "# Extract embeddings\n",
    "last_hidden_state = outputs.last_hidden_state  # Shape: [batch_size, seq_len, hidden_dim]\n",
    "\n",
    "print(f'{last_hidden_state.shape=}')"
   ]
  }
 ],
 "metadata": {
  "kernelspec": {
   "display_name": "GAMER",
   "language": "python",
   "name": "python3"
  },
  "language_info": {
   "codemirror_mode": {
    "name": "ipython",
    "version": 3
   },
   "file_extension": ".py",
   "mimetype": "text/x-python",
   "name": "python",
   "nbconvert_exporter": "python",
   "pygments_lexer": "ipython3",
   "version": "3.10.18"
  }
 },
 "nbformat": 4,
 "nbformat_minor": 5
}
