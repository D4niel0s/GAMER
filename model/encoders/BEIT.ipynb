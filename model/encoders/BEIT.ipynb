{
 "cells": [
  {
   "cell_type": "markdown",
   "id": "6bfa7a56",
   "metadata": {},
   "source": [
    "# The [BEiT model](https://arxiv.org/pdf/2106.08254)\n",
    "In contrast to the usual ViT which is trained on classification, BEiT is trained on MIM - directly targeting contextualization of patches. \\\n",
    "This is more in-line with BERT which we have for our text encoder."
   ]
  }
 ],
 "metadata": {
  "language_info": {
   "name": "python"
  }
 },
 "nbformat": 4,
 "nbformat_minor": 5
}
